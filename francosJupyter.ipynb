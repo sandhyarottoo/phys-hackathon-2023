{
 "cells": [
  {
   "cell_type": "code",
   "execution_count": null,
   "metadata": {},
   "outputs": [],
   "source": [
    "### Yo yo yo ###\n",
    "\n",
    "import numpy as np\n",
    "import matplotlib.pyplot"
   ]
  }
 ],
 "metadata": {
  "language_info": {
   "name": "python"
  }
 },
 "nbformat": 4,
 "nbformat_minor": 2
}
