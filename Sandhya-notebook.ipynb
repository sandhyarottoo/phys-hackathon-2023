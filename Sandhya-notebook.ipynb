{
 "cells": [
  {
   "cell_type": "code",
   "execution_count": 15,
   "id": "9b71bf38",
   "metadata": {},
   "outputs": [],
   "source": [
    "import pygame\n",
    "import numpy as np\n",
    "from pygame.locals import *\n",
    "import pygame.examples.moveit\n",
    "import pygame.sprite"
   ]
  },
  {
   "cell_type": "code",
   "execution_count": null,
   "id": "26ef9487",
   "metadata": {},
   "outputs": [],
   "source": []
  },
  {
   "cell_type": "code",
   "execution_count": null,
   "id": "f4419a2f",
   "metadata": {},
   "outputs": [],
   "source": []
  },
  {
   "cell_type": "code",
   "execution_count": null,
   "id": "20cec237",
   "metadata": {},
   "outputs": [],
   "source": [
    "#Vector2.from_polar((r, phi)) -> Vector2\n",
    "dt = 0.01\n",
    "\n",
    "def a_radial(w,r,v_theta):\n",
    "    return -1*(w**2*r+w*v_theta)\n",
    "\n",
    "def a_tan(w,v_radial,r,ang_acc):\n",
    "    return w*v_radial+r*ang_acc\n",
    "\n",
    "    \n",
    "slaying = True\n",
    "\n",
    "screen_size = screen_width, screen_height = 600, 400\n",
    "screen = pygame.display.set_mode(screen_size)\n",
    "\n",
    "clock = pygame.time.Clock()\n",
    "fps_limit = 60\n",
    "\n",
    "# initial conditions\n",
    "r = 2\n",
    "theta = 45\n",
    "v_radial = 3\n",
    "v_theta = 1\n",
    "w = np.degrees(24)\n",
    "ang_acc = 0\n",
    "\n",
    "#circle \n",
    "colorcircle = (red)\n",
    "pos_polar = (r,theta) #r, theta in degrees\n",
    "pos_xy = pygame.Vector2.from_polar(pos_polar)\n",
    "screen.fill(black)\n",
    "circle = pygame.draw.circle(screen, colorcircle, pos_xy, 50)\n",
    "\n",
    "\n",
    "\n",
    "while slaying:\n",
    "    for event in pygame.event.get():\n",
    "        if event.type == pygame.QUIT:\n",
    "            run_me = False\n",
    "    \n",
    "    v_radial += a_radial(w,r,v_theta)*dt\n",
    "    v_theta += a_tan(w,v_radial,r,ang_acc)*dt\n",
    "    r += v_radial*dt\n",
    "    theta += v_theta*dt\n",
    "    \n",
    "    pos_polar = (r,theta)\n",
    "    pos_xy = pygame.Vector2.from_polar(pos_polar)\n",
    "    \n",
    "    circle = pygame.draw.circle(screen, colorcircle, pos_xy, 50)\n",
    "\n",
    "pygame.quit()"
   ]
  },
  {
   "cell_type": "code",
   "execution_count": null,
   "id": "a7e0bf8b",
   "metadata": {},
   "outputs": [],
   "source": []
  },
  {
   "cell_type": "code",
   "execution_count": null,
   "id": "374364e8",
   "metadata": {},
   "outputs": [],
   "source": []
  },
  {
   "cell_type": "code",
   "execution_count": 21,
   "id": "75fac752",
   "metadata": {},
   "outputs": [],
   "source": [
    "black = (0,0,0)\n",
    "red = (255,0,0)\n",
    "green = (0,255,0)\n",
    "blue = (0,0,255)\n",
    "white = (255,255,255)\n",
    "run_me = True\n",
    "\n",
    "screen_size = screen_width, screen_height = 600, 400\n",
    "screen = pygame.display.set_mode(screen_size)\n",
    "pygame.display.set_caption('ha ha ha ha ha')\n",
    "\n",
    "clock = pygame.time.Clock()\n",
    "fps_limit = 60\n",
    "\n",
    "#circle \n",
    "colorcircle = (red)\n",
    "posx = 300\n",
    "posy = 200\n",
    "circle = pygame.draw.circle(screen, colorcircle, (posx, posy), 50)\n",
    "\n",
    "while run_me:\n",
    "    clock.tick(fps_limit) \n",
    "\n",
    "    for event in pygame.event.get():\n",
    "        if event.type == pygame.QUIT:\n",
    "            run_me = False\n",
    "        if event.type == pygame.KEYDOWN:\n",
    "            if event.key == pygame.K_LEFT:\n",
    "                posx = posx - 10\n",
    "        if event.type == pygame.KEYDOWN:\n",
    "            if event.key == pygame.K_RIGHT:\n",
    "                posx = posx + 10\n",
    "        if event.type == pygame.KEYDOWN:\n",
    "            if event.key == pygame.K_UP:\n",
    "                posy = posy - 10\n",
    "        if event.type == pygame.KEYDOWN:\n",
    "            if event.key == pygame.K_DOWN:\n",
    "                posy = posy + 10\n",
    "                \n",
    "    # fill the screen with black (otherwise, the circle will leave a trail)\n",
    "    screen.fill(black)\n",
    "    # redraw the circle\n",
    "    pygame.draw.circle(screen, colorcircle, (posx, posy), 50)\n",
    "\n",
    "    pygame.display.flip()\n",
    "\n",
    "pygame.quit()"
   ]
  },
  {
   "cell_type": "code",
   "execution_count": 27,
   "id": "90d20f41",
   "metadata": {},
   "outputs": [
    {
     "data": {
      "text/plain": [
       "<Vector2(1.41421, 1.41421)>"
      ]
     },
     "execution_count": 27,
     "metadata": {},
     "output_type": "execute_result"
    }
   ],
   "source": []
  },
  {
   "cell_type": "code",
   "execution_count": null,
   "id": "d3506ceb",
   "metadata": {},
   "outputs": [],
   "source": []
  }
 ],
 "metadata": {
  "kernelspec": {
   "display_name": "Python 3",
   "language": "python",
   "name": "python3"
  },
  "language_info": {
   "codemirror_mode": {
    "name": "ipython",
    "version": 3
   },
   "file_extension": ".py",
   "mimetype": "text/x-python",
   "name": "python",
   "nbconvert_exporter": "python",
   "pygments_lexer": "ipython3",
   "version": "3.8.8"
  }
 },
 "nbformat": 4,
 "nbformat_minor": 5
}
