{
 "cells": [
  {
   "cell_type": "code",
   "execution_count": 1,
   "id": "5af58d91",
   "metadata": {},
   "outputs": [
    {
     "name": "stdout",
     "output_type": "stream",
     "text": [
      "pygame 2.5.2 (SDL 2.28.3, Python 3.8.8)\n",
      "Hello from the pygame community. https://www.pygame.org/contribute.html\n"
     ]
    }
   ],
   "source": [
    "import pygame\n",
    "import numpy as np\n",
    "from pygame.locals import *\n",
    "import pygame.examples.moveit\n",
    "import pygame.sprite"
   ]
  },
  {
   "cell_type": "code",
   "execution_count": null,
   "id": "84d3e03b",
   "metadata": {},
   "outputs": [],
   "source": []
  },
  {
   "cell_type": "code",
   "execution_count": null,
   "id": "e4820069",
   "metadata": {},
   "outputs": [],
   "source": []
  },
  {
   "cell_type": "code",
   "execution_count": 13,
   "id": "a7212505",
   "metadata": {},
   "outputs": [
    {
     "name": "stdout",
     "output_type": "stream",
     "text": [
      "0.0 0.0\n"
     ]
    }
   ],
   "source": [
    "black = (0,0,0)\n",
    "red = (255,0,0)\n",
    "green = (0,255,0)\n",
    "blue = (0,0,255)\n",
    "white = (255,255,255)\n",
    "\n",
    "#time step for euler integration\n",
    "dt = 0.000001\n",
    "\n",
    "#accelerations \n",
    "def a_radial(w,r,v_theta):\n",
    "    return -1*(w**2*r+w*v_theta)\n",
    "\n",
    "def a_tan(w,v_radial,r,ang_acc):\n",
    "    return w*v_radial+r*ang_acc\n",
    "\n",
    "#conversion functions\n",
    "def cartesian_to_polar(pos_xy):\n",
    "    x,y = pos_xy\n",
    "    if x ==0:\n",
    "        return 0,0\n",
    "    r = np.sqrt(x**2+y**2)\n",
    "    theta = np.arctan(y/x)\n",
    "    return r,theta\n",
    "\n",
    "def polar_to_cartesian(pos_rtheta):\n",
    "    r_theta = pos_rtheta\n",
    "    x = r*np.cos(np.deg2rad(theta))\n",
    "    y = r*np.sin(np.deg2rad(theta))\n",
    "    return x,y\n",
    "    \n",
    "slaying = True\n",
    "\n",
    "#define initial game conditions\n",
    "screen_size = screen_width, screen_height = 600, 400\n",
    "screen = pygame.display.set_mode(screen_size)\n",
    "\n",
    "clock = pygame.time.Clock()\n",
    "fps_limit = 60\n",
    "\n",
    "#initial conditions (in cartesian coords):\n",
    "pos_xy = pygame.Vector2(screen.get_width()/2, screen.get_height()/2)\n",
    "\n",
    "#in polar coords\n",
    "r,theta = cartesian_to_polar(pos_xy)\n",
    "v_r,v_theta = pygame.Vector2(0,0)\n",
    "a_r,a_theta = pygame.Vector2(0,0)\n",
    "\n",
    "w_platform = np.degrees(50) #number is in rad/s, returns deg/s\n",
    "acc_platform = 0 #acceleration of the platform\n",
    "\n",
    "#make the circle\n",
    "colorcircle = (red)\n",
    "circle = pygame.draw.circle(screen, colorcircle, pos_xy, 50)\n",
    "\n",
    "while slaying:\n",
    "    clock.tick(fps_limit)\n",
    "    \n",
    "    for event in pygame.event.get():\n",
    "        if event.type == pygame.QUIT:\n",
    "            slaying = False\n",
    "    \n",
    "    #change the position to cartesian\n",
    "    pos_xy = polar_to_cartesian((r,theta))  \n",
    "    \n",
    "    #update position\n",
    "    r += v_r*dt\n",
    "    theta += v_theta*dt   \n",
    "    #update velocity\n",
    "    v_r += a_r*dt\n",
    "    v_theta += a_theta*dt\n",
    "    \n",
    "    #set a to 0 at each step\n",
    "    a_r = 0\n",
    "    a_theta = 0\n",
    "    \n",
    "    #calculate acceleration for next step\n",
    "    \n",
    "    a_theta = a_tan(w_platform,v_r,r,acc_platform)\n",
    "    a_r = a_radial(w_platform,r,v_theta)\n",
    "            \n",
    "    screen.fill(white)\n",
    "    #update circle position \n",
    "    \n",
    "    circle = pygame.draw.circle(screen, colorcircle, pos_xy, 50)\n",
    "    \n",
    "    \n",
    "    pygame.display.flip()\n",
    "    \n",
    "pygame.quit()"
   ]
  },
  {
   "cell_type": "code",
   "execution_count": null,
   "id": "60fee6f2",
   "metadata": {},
   "outputs": [],
   "source": []
  },
  {
   "cell_type": "code",
   "execution_count": null,
   "id": "e77078cb",
   "metadata": {},
   "outputs": [],
   "source": []
  },
  {
   "cell_type": "code",
   "execution_count": 36,
   "id": "80e43214",
   "metadata": {},
   "outputs": [],
   "source": [
    "black = (0,0,0)\n",
    "red = (255,0,0)\n",
    "green = (0,255,0)\n",
    "blue = (0,0,255)\n",
    "white = (255,255,255)\n",
    "run_me = True\n",
    "\n",
    "screen_size = screen_width, screen_height = 600, 400\n",
    "screen = pygame.display.set_mode(screen_size)\n",
    "pygame.display.set_caption('ha ha ha ha ha')\n",
    "\n",
    "clock = pygame.time.Clock()\n",
    "fps_limit = 60\n",
    "\n",
    "#circle \n",
    "colorcircle = (red)\n",
    "posx = 300\n",
    "posy = 200\n",
    "circle = pygame.draw.circle(screen, colorcircle, (posx, posy), 50)\n",
    "\n",
    "while run_me:\n",
    "    clock.tick(fps_limit) \n",
    "\n",
    "    for event in pygame.event.get():\n",
    "        if event.type == pygame.QUIT:\n",
    "            run_me = False\n",
    "        if event.type == pygame.KEYDOWN:\n",
    "            if event.key == pygame.K_LEFT:\n",
    "                posx = posx - 10\n",
    "        if event.type == pygame.KEYDOWN:\n",
    "            if event.key == pygame.K_RIGHT:\n",
    "                posx = posx + 10\n",
    "        if event.type == pygame.KEYDOWN:\n",
    "            if event.key == pygame.K_UP:\n",
    "                posy = posy - 10\n",
    "        if event.type == pygame.KEYDOWN:\n",
    "            if event.key == pygame.K_DOWN:\n",
    "                posy = posy + 10\n",
    "                \n",
    "    # fill the screen with black (otherwise, the circle will leave a trail)\n",
    "    screen.fill(black)\n",
    "    # redraw the circle\n",
    "    pygame.draw.circle(screen, colorcircle, (posx, posy), 50)\n",
    "\n",
    "    pygame.display.flip()\n",
    "\n",
    "pygame.quit()"
   ]
  },
  {
   "cell_type": "code",
   "execution_count": 27,
   "id": "8c9b91bc",
   "metadata": {},
   "outputs": [
    {
     "data": {
      "text/plain": [
       "<Vector2(1.41421, 1.41421)>"
      ]
     },
     "execution_count": 27,
     "metadata": {},
     "output_type": "execute_result"
    }
   ],
   "source": []
  },
  {
   "cell_type": "code",
   "execution_count": null,
   "id": "9e8761b3",
   "metadata": {},
   "outputs": [],
   "source": []
  }
 ],
 "metadata": {
  "kernelspec": {
   "display_name": "Python 3",
   "language": "python",
   "name": "python3"
  },
  "language_info": {
   "codemirror_mode": {
    "name": "ipython",
    "version": 3
   },
   "file_extension": ".py",
   "mimetype": "text/x-python",
   "name": "python",
   "nbconvert_exporter": "python",
   "pygments_lexer": "ipython3",
   "version": "3.8.8"
  }
 },
 "nbformat": 4,
 "nbformat_minor": 5
}
